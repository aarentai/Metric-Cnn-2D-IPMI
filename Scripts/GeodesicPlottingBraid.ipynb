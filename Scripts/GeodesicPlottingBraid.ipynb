{
 "cells": [
  {
   "cell_type": "code",
   "execution_count": null,
   "metadata": {},
   "outputs": [],
   "source": [
    "import numpy as np\n",
    "import sys\n",
    "sys.path.append('../Packages')\n",
    "import util.riemann as riemann\n",
    "import util.tensors as tensors\n",
    "import data.convert as convert\n",
    "import algo.geodesic as geo\n",
    "import algo.euler as euler\n",
    "\n",
    "from matplotlib import pyplot as plt\n",
    "from disp.vis import *\n",
    "%matplotlib widget"
   ]
  },
  {
   "cell_type": "code",
   "execution_count": null,
   "metadata": {},
   "outputs": [],
   "source": [
    "name = 'braid'\n",
    "input_dir = '../Brains'\n",
    "output_dir = f'../Checkpoints/{name}'\n",
    "\n",
    "epoch = 1000\n",
    "mask = convert.read_nhdr(f'{input_dir}/{name}/{name}_filt_mask.nhdr').double().permute(1,0).numpy()\n",
    "tensor_pred_lin = convert.read_nhdr(f'{input_dir}/{name}/{name}_learned_tensors_{epoch}.nhdr').permute(2,1,0).numpy()\n",
    "vector_lin1 = convert.read_nhdr(f'{input_dir}/sin/sin_vector_field.nhdr').permute(2,0,1).numpy()\n",
    "vector_lin2 = convert.read_nhdr(f'{input_dir}/cos/cos_vector_field.nhdr').permute(2,0,1).numpy()\n",
    "\n",
    "tensor_pred_mat = tensors.lin2mat(tensor_pred_lin)\n",
    "metric_pred_mat = np.linalg.inv(tensor_pred_mat)\n",
    "metric_pred_lin = tensors.mat2lin(metric_pred_mat)"
   ]
  },
  {
   "cell_type": "markdown",
   "metadata": {},
   "source": [
    "## Geodesic plotting"
   ]
  },
  {
   "cell_type": "code",
   "execution_count": null,
   "metadata": {},
   "outputs": [],
   "source": [
    "geo_delta_t, euler_delta_t = 5e-2, 5e-2\n",
    "geo_iters, euler_iters = 60000, 60000"
   ]
  },
  {
   "cell_type": "code",
   "execution_count": null,
   "metadata": {
    "scrolled": true
   },
   "outputs": [],
   "source": [
    "start_coords = np.array([60,29])\n",
    "init_velocities = vector_lin1[:,start_coords[0],start_coords[1]]\n",
    "geox_pred1, geoy_pred1 = geo.geodesicpath('f', tensor_pred_lin, vector_lin1, mask,\\\n",
    "                                                      start_coords, init_velocities, \\\n",
    "                                                      geo_delta_t, iter_num=geo_iters, both_directions=True)\n",
    "\n",
    "eulx1, euly1 = euler.eulerpath_vectbase_2d_w_dv(vector_lin1, mask, start_coords, euler_delta_t, iter_num=euler_iters, both_directions=True)"
   ]
  },
  {
   "cell_type": "code",
   "execution_count": null,
   "metadata": {
    "scrolled": true
   },
   "outputs": [],
   "source": [
    "start_coords = np.array([60,70])\n",
    "init_velocities = vector_lin2[:,start_coords[0],start_coords[1]]\n",
    "geox_pred2, geoy_pred2 = geo.geodesicpath('f', tensor_pred_lin, vector_lin2, mask,\\\n",
    "                                                      start_coords, init_velocities, \\\n",
    "                                                      geo_delta_t, iter_num=geo_iters, both_directions=True)\n",
    "\n",
    "eulx2, euly2 = euler.eulerpath_vectbase_2d_w_dv(vector_lin2, mask, start_coords, euler_delta_t, iter_num=euler_iters, both_directions=True)"
   ]
  },
  {
   "cell_type": "code",
   "execution_count": null,
   "metadata": {
    "scrolled": false
   },
   "outputs": [],
   "source": [
    "tens_fig = vis_tensors(metric_pred_lin*np.stack((mask,mask,mask),0), '', False, scale=8e-1,  opacity=0.3, show_axis_labels=False)\n",
    "vis_path(eulx1, euly1, tens_fig, \"integral curve on vector field\", 'black', 2, 1, False, show_legend=False)\n",
    "vis_path(eulx2, euly2, tens_fig, \"integral curve on vector field\", 'black', 2, 1, False, show_legend=False)\n",
    "vis_path(geox_pred1, geoy_pred1, tens_fig, f\"geodesic on learned {name}\", '#0082fb', 10, 1, False, show_legend=False)\n",
    "vis_path(geox_pred2, geoy_pred2, tens_fig, f\"geodesic on learned {name}\", '#0082fb', 10, 1, False, show_legend=False)\n",
    "plt.axis('off')\n",
    "plt.plot([60,60], [29,70], linestyle='', marker='*', color='black', markersize=12)\n",
    "# plt.savefig(f'{output_dir}/{name}_{epoch}_for_nips.png', bbox_inches='tight', dpi=300)"
   ]
  },
  {
   "cell_type": "code",
   "execution_count": null,
   "metadata": {},
   "outputs": [],
   "source": []
  }
 ],
 "metadata": {
  "kernelspec": {
   "display_name": "pytorch7",
   "language": "python",
   "name": "pytorch7"
  },
  "language_info": {
   "codemirror_mode": {
    "name": "ipython",
    "version": 3
   },
   "file_extension": ".py",
   "mimetype": "text/x-python",
   "name": "python",
   "nbconvert_exporter": "python",
   "pygments_lexer": "ipython3",
   "version": "3.7.9"
  }
 },
 "nbformat": 4,
 "nbformat_minor": 4
}
