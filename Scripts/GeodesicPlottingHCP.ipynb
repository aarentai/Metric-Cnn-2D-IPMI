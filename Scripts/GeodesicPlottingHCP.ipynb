{
 "cells": [
  {
   "cell_type": "code",
   "execution_count": null,
   "metadata": {},
   "outputs": [],
   "source": [
    "import numpy as np\n",
    "import os, skimage, sys\n",
    "import SimpleITK as sitk\n",
    "import matplotlib.patches as patches\n",
    "\n",
    "sys.path.append('../Packages')\n",
    "import algo.geodesic as geo\n",
    "import algo.euler as euler\n",
    "import disp.vis as vis\n",
    "import util.riemann as riemann\n",
    "import util.tensors as tensors\n",
    "import data.convert as convert\n",
    "import disp.vis as vis\n",
    "\n",
    "from skimage import filters\n",
    "from matplotlib import pyplot as plt\n",
    "\n",
    "%matplotlib widget\n",
    "\n",
    "def subtract(lis, num):\n",
    "    return [number - num for number in lis]\n",
    "\n",
    "def crop_path(path_x, path_y, x_range, y_range):\n",
    "    index_kept = []\n",
    "    for i in range(len(path_x)):\n",
    "        if x_range[0]<=path_x[i] and path_x[i]<=x_range[1] and y_range[0]<=path_y[i] and path_y[i]<=y_range[1]:\n",
    "            index_kept.append(i)\n",
    "    return path_x[np.array(index_kept).astype(int)], path_y[np.array(index_kept).astype(int)]"
   ]
  },
  {
   "cell_type": "markdown",
   "metadata": {},
   "source": [
    "## Never use the super slow `torch` in geodesic shooting algorithm!! Use `numpy`"
   ]
  },
  {
   "cell_type": "code",
   "execution_count": null,
   "metadata": {},
   "outputs": [],
   "source": [
    "brain_id = 100610\n",
    "input_dir = '../Brains'\n",
    "output_dir = f'../Checkpoints/{brain_id}'\n",
    "mask = convert.read_nhdr(f'{input_dir}/{brain_id}/{brain_id}_filt_mask.nhdr').double().permute(1,0).numpy()\n",
    "tensor_pred_lin = convert.read_nhdr(f'{input_dir}/{brain_id}/{brain_id}_learned_tensors_final.nhdr').permute(2,1,0).numpy()\n",
    "tensor_scaled_lin = convert.read_nhdr(f'{input_dir}/{brain_id}/{brain_id}_scaled_tensors.nhdr').permute(2,1,0).numpy()\n",
    "tensor_orig_lin = convert.read_nhdr(f'{input_dir}/{brain_id}/{brain_id}_orig_tensors.nhdr').permute(2,1,0).numpy()\n",
    "vector_lin = convert.read_nhdr(f'{input_dir}/{brain_id}/{brain_id}_vector_field.nhdr').permute(2,0,1).numpy()"
   ]
  },
  {
   "cell_type": "code",
   "execution_count": null,
   "metadata": {
    "scrolled": false
   },
   "outputs": [],
   "source": [
    "eroded_mask = skimage.morphology.erosion(mask,skimage.morphology.square(3))\n",
    "tensor_pred_mat = tensors.lin2mat(tensor_pred_lin)\n",
    "metric_pred_mat = np.linalg.inv(tensor_pred_mat)\n",
    "metric_pred_lin = tensors.mat2lin(metric_pred_mat)\n",
    "nabla_vv_pred = riemann.covariant_derivative_2d(vector_lin, metric_pred_mat, mask, differential_accuracy=2)\n",
    "sigma = ((vector_lin[0]*nabla_vv_pred[0]+vector_lin[1]*nabla_vv_pred[1])/(vector_lin[0]**2+vector_lin[1]**2))\n",
    "\n",
    "x = np.linspace(0, mask.shape[0]-1, mask.shape[0])\n",
    "y = np.linspace(0, mask.shape[1]-1, mask.shape[1])\n",
    "xx, yy = np.meshgrid(x,y,indexing='ij')\n",
    "plt.figure(figsize=(8,10))\n",
    "plt.title('epsilon=nabla VV-sigma*V')\n",
    "plt.quiver(xx,yy,\\\n",
    "           (nabla_vv_pred[0]-sigma*vector_lin[0])*eroded_mask, \\\n",
    "           (nabla_vv_pred[1]-sigma*vector_lin[1])*eroded_mask,scale=1e-2)\n",
    "plt.axis('off')"
   ]
  },
  {
   "cell_type": "markdown",
   "metadata": {},
   "source": [
    "## Geodesic plotting"
   ]
  },
  {
   "cell_type": "code",
   "execution_count": null,
   "metadata": {
    "scrolled": true
   },
   "outputs": [],
   "source": [
    "start_coords = np.array([73,124]) # 100610\n",
    "\n",
    "init_velocities = vector_lin[:, int(start_coords[0]), int(start_coords[1])]\n",
    "geo_delta_t, euler_delta_t = 5e-3, 5e-3\n",
    "geo_iters, euler_iters = 60000, 60000\n",
    "\n",
    "'''Integral curve'''\n",
    "eulxb, eulyb = euler.eulerpath_vectbase_2d_w_dv(vector_lin, mask, start_coords, euler_delta_t, iter_num=euler_iters, both_directions=True)\n",
    "\n",
    "'''Inverted'''\n",
    "tensor_orig_mat = tensors.lin2mat(tensor_orig_lin)\n",
    "tensor_orig_mat[np.linalg.det(tensor_orig_mat)==0] = np.eye(2)\n",
    "tensor_orig_lin = tensors.mat2lin(tensor_orig_mat)\n",
    "geox_orig, geoy_orig = geo.geodesicpath('f', tensor_orig_lin, vector_lin, mask,\\\n",
    "                                                      start_coords, init_velocities, \\\n",
    "                                                      geo_delta_t, iter_num=geo_iters, both_directions=True)\n",
    "\n",
    "'''Adjugate'''\n",
    "tensor_orig_mat = tensors.lin2mat(tensor_orig_lin)\n",
    "tensor_orig_mat[np.linalg.det(tensor_orig_mat)==0] = np.eye(2)\n",
    "metric_adj_mat = np.linalg.inv(tensor_orig_mat)\n",
    "metric_adj_mat[...,0,0] = metric_adj_mat[...,0,0]*np.linalg.det(tensor_orig_mat)\n",
    "metric_adj_mat[...,0,1] = metric_adj_mat[...,0,1]*np.linalg.det(tensor_orig_mat)\n",
    "metric_adj_mat[...,1,0] = metric_adj_mat[...,1,0]*np.linalg.det(tensor_orig_mat)\n",
    "metric_adj_mat[...,1,1] = metric_adj_mat[...,1,1]*np.linalg.det(tensor_orig_mat)\n",
    "tensor_adj_mat = np.linalg.inv(metric_adj_mat)\n",
    "tensor_adj_lin = tensors.mat2lin(tensor_adj_mat)\n",
    "geox_adj, geoy_adj = geo.geodesicpath('f', tensor_adj_lin, vector_lin, mask,\\\n",
    "                                                      start_coords, init_velocities, \\\n",
    "                                                      geo_delta_t, iter_num=geo_iters, both_directions=True)\n",
    "\n",
    "'''Conformal'''\n",
    "tensor_scaled_mat = tensors.lin2mat(tensor_scaled_lin)\n",
    "tensor_scaled_mat[np.linalg.det(tensor_scaled_mat)==0] = np.eye(2)\n",
    "tensor_scaled_lin = tensors.mat2lin(tensor_scaled_mat)\n",
    "geox_scaled, geoy_scaled = geo.geodesicpath('f', tensor_scaled_lin, vector_lin, mask,\\\n",
    "                                                      start_coords, init_velocities, \\\n",
    "                                                      geo_delta_t, iter_num=geo_iters, both_directions=True)\n",
    "\n",
    "'''Proposed'''\n",
    "geox_predb, geoy_predb = geo.geodesicpath('b', tensor_pred_lin, vector_lin, mask,\\\n",
    "                                                      start_coords, init_velocities, \\\n",
    "                                                      geo_delta_t, iter_num=geo_iters, both_directions=True)"
   ]
  },
  {
   "cell_type": "code",
   "execution_count": null,
   "metadata": {
    "scrolled": false
   },
   "outputs": [],
   "source": [
    "interp_colors = ['#777777','#253494', '#2c7fb8', '#41b6c4', '#a1dab4', '#fed98e', '#fe9929', '#d95f0e', '#993404']\n",
    "x = np.linspace(0, mask.shape[0]-1, mask.shape[0])\n",
    "y = np.linspace(0, mask.shape[1]-1, mask.shape[1])\n",
    "xx, yy = np.meshgrid(x,y,indexing='ij')\n",
    "plt.figure(figsize=(8,11))\n",
    "scale, slic = 1e0, 12\n",
    "plt.axis('off')\n",
    "vect_fig = plt.quiver(xx[mask>0],yy[mask>0],vector_lin[0][mask>0],vector_lin[1][mask>0],scale=1e2,color='#666666',headaxislength=0,headlength=0)\n",
    "\n",
    "vis.vis_path(geox_orig, geoy_orig, vect_fig, f\"Inverted\", '#ffb901', 10, 1, False, show_legend=False)\n",
    "vis.vis_path(geox_adj, geoy_adj, vect_fig, f\"Adjugate\", '#f25022', 10, 1, False, show_legend=False)\n",
    "vis.vis_path(geox_scaled, geoy_scaled, vect_fig, f\"Conformal\", '#7fba00', 10, 1, False, show_legend=False)\n",
    "'''b:g_ddot=-g_dot*G*g_dot+\\sigma*V'''\n",
    "vis.vis_path(geox_predb, geoy_predb, vect_fig, f\"Proposed\", '#41b6c4', 10, 1, False, show_legend=False)\n",
    "vis.vis_path(eulxb, eulyb, vect_fig, \"Integral curve\", 'black', 2, 1, False, show_legend=False)\n",
    "\n",
    "plt.savefig(f'{output_dir}/{name}_{start_coords[0]}_{start_coords[1]}_final_vect.png', bbox_inches='tight', dpi=300)"
   ]
  },
  {
   "cell_type": "code",
   "execution_count": null,
   "metadata": {
    "scrolled": false
   },
   "outputs": [],
   "source": [
    "x_range = (51,92)\n",
    "y_range = (113,152)\n",
    "vector_field_part = vector_lin[:,x_range[0]:x_range[1],y_range[0]:y_range[1]]\n",
    "mask_part = mask[x_range[0]:x_range[1],y_range[0]:y_range[1]]\n",
    "x = np.linspace(0,x_range[1]-x_range[0]-1,x_range[1]-x_range[0])\n",
    "y = np.linspace(0,y_range[1]-y_range[0]-1,y_range[1]-y_range[0])\n",
    "xx, yy = np.meshgrid(x,y,indexing='ij')\n",
    "plt.figure(figsize=(7,7))\n",
    "scale, slic = 1e0, 12\n",
    "plt.axis('off')\n",
    "vect_fig = plt.quiver(xx[mask_part>0],yy[mask_part>0],vector_field_part[0][mask_part>0],vector_field_part[1][mask_part>0],scale=5e1,color='#666666',headaxislength=0,headlength=0)\n",
    "\n",
    "'''crop paths in range'''\n",
    "geox_orig, geoy_orig = crop_path(geox_orig, geoy_orig, x_range, y_range)\n",
    "geox_adj, geoy_adj = crop_path(geox_adj, geoy_adj, x_range, y_range)\n",
    "geox_scaled, geoy_scaled = crop_path(geox_scaled, geoy_scaled, x_range, y_range)\n",
    "geox_predb, geoy_predb = crop_path(geox_predb, geoy_predb, x_range, y_range)\n",
    "eulxb, eulyb = crop_path(eulxb, eulyb, x_range, y_range)\n",
    "\n",
    "vis.vis_path(subtract(geox_orig, x_range[0]), subtract(geoy_orig, y_range[0]), vect_fig, f\"Inverted\", '#ffb901', 15, 1, False)\n",
    "vis.vis_path(subtract(geox_adj, x_range[0]), subtract(geoy_adj, y_range[0]), vect_fig, f\"Adjugate\", '#f25022', 15, 1, False)\n",
    "vis.vis_path(subtract(geox_scaled, x_range[0]), subtract(geoy_scaled, y_range[0]), vect_fig, f\"Conformal\", '#7fba00', 15, 1, False)\n",
    "vis.vis_path(subtract(geox_predb, x_range[0]), subtract(geoy_predb, y_range[0]), vect_fig, f\"Proposed\", '#41b6c4', 15, 1, False)\n",
    "vis.vis_path(subtract(eulxb, x_range[0]), subtract(eulyb, y_range[0]), vect_fig, \"Integral curve\", 'black', 3, 1, False)\n",
    "\n",
    "plt.plot([start_coords[0]-x_range[0]],[start_coords[1]-y_range[0]], linestyle='', marker='*', color='black', markersize=20)\n",
    "plt.savefig(f'{output_dir}/{name}_{start_coords[0]}_{start_coords[1]}_final_zoomin_vect.png', bbox_inches='tight', dpi=300)"
   ]
  },
  {
   "cell_type": "markdown",
   "metadata": {},
   "source": [
    "## Tensor visualization"
   ]
  },
  {
   "cell_type": "code",
   "execution_count": null,
   "metadata": {},
   "outputs": [],
   "source": [
    "vis.vis_tensors(metric_pred_lin[:,x_range[0]:x_range[1],y_range[0]:y_range[1]], 'title', save_file=False, filename='', mask=mask[x_range[0]:x_range[1],y_range[0]:y_range[1]],scale=1, opacity=0.5, show_axis_labels=True, ax=None,zorder=1,stride=None)"
   ]
  },
  {
   "cell_type": "code",
   "execution_count": null,
   "metadata": {},
   "outputs": [],
   "source": []
  }
 ],
 "metadata": {
  "kernelspec": {
   "display_name": "pytorch7",
   "language": "python",
   "name": "pytorch7"
  },
  "language_info": {
   "codemirror_mode": {
    "name": "ipython",
    "version": 3
   },
   "file_extension": ".py",
   "mimetype": "text/x-python",
   "name": "python",
   "nbconvert_exporter": "python",
   "pygments_lexer": "ipython3",
   "version": "3.7.9"
  }
 },
 "nbformat": 4,
 "nbformat_minor": 4
}
