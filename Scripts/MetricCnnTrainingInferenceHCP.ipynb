{
 "cells": [
  {
   "cell_type": "code",
   "execution_count": null,
   "metadata": {},
   "outputs": [],
   "source": [
    "import torch\n",
    "import torch.nn.functional as F\n",
    "import torch.multiprocessing as mp\n",
    "from torch import nn\n",
    "from torch.utils.data import DataLoader\n",
    "\n",
    "import numpy as np\n",
    "import SimpleITK as sitk\n",
    "import os, skimage, sys\n",
    "\n",
    "sys.path.append('../Packages')\n",
    "from util import riemann, tensors, diff\n",
    "import data.convert as convert\n",
    "from matplotlib import pyplot as plt\n",
    "from tqdm.notebook import tqdm as tqdm\n",
    "from plot import *\n",
    "from pde import *\n",
    "from dataset import *\n",
    "from model import *\n",
    "\n",
    "%matplotlib widget"
   ]
  },
  {
   "cell_type": "code",
   "execution_count": null,
   "metadata": {},
   "outputs": [],
   "source": [
    "mode='gpu'\n",
    "\n",
    "if mode=='gpu':\n",
    "    device = torch.device('cuda' if torch.cuda.is_available() else 'cpu')\n",
    "    # after switch device, you need restart the kernel\n",
    "    torch.cuda.set_device(1)\n",
    "    torch.set_default_tensor_type('torch.cuda.FloatTensor')\n",
    "else:\n",
    "    device = torch.device('cpu')\n",
    "    torch.set_default_dtype(torch.float64)"
   ]
  },
  {
   "cell_type": "markdown",
   "metadata": {},
   "source": [
    "### [Matrix exponential for 2D](https://en.wikipedia.org/wiki/Matrix_exponential)\n",
    "${\\displaystyle e^{tA}=e^{st}\\left(\\left(\\cosh(qt)-s{\\frac {\\sinh(qt)}{q}}\\right)~I~+{\\frac {\\sinh(qt)}{q}}A\\right)~.}$ where $t=1$, $s=tr({A}/2), q=-\\sqrt{-\\det(A-sI)}$"
   ]
  },
  {
   "cell_type": "code",
   "execution_count": null,
   "metadata": {},
   "outputs": [],
   "source": [
    "brain_id = 100610\n",
    "input_dir = '../Brains'\n",
    "output_dir = f'../Checkpoints/{brain_id}'\n",
    "if not os.path.isdir(output_dir):\n",
    "    os.mkdir(output_dir)"
   ]
  },
  {
   "cell_type": "markdown",
   "metadata": {},
   "source": [
    "# Training"
   ]
  },
  {
   "cell_type": "code",
   "execution_count": null,
   "metadata": {},
   "outputs": [],
   "source": [
    "resume = False\n",
    "save_model = True\n",
    "print(f'resume:{resume}, save_model:{save_model}')"
   ]
  },
  {
   "cell_type": "code",
   "execution_count": null,
   "metadata": {},
   "outputs": [],
   "source": [
    "epoch_loss_list = []\n",
    "epoch_num = 10001\n",
    "start_epoch_num = 10001\n",
    "batch_num = 1\n",
    "learning_rate = 1e-2\n",
    "\n",
    "model = DenseED(in_channels=2, out_channels=3, \n",
    "                imsize=100,\n",
    "                blocks=[6, 8, 6],\n",
    "                growth_rate=16, \n",
    "                init_features=48,\n",
    "                drop_rate=0,\n",
    "                out_activation=None,\n",
    "                upsample='nearest')\n",
    "model.train()\n",
    "if mode=='gpu':\n",
    "    model.cuda()\n",
    "criterion = torch.nn.MSELoss()\n",
    "optimizer = torch.optim.Adadelta(model.parameters(), lr=learning_rate)\n",
    "scheduler = torch.optim.lr_scheduler.ReduceLROnPlateau(optimizer, mode='min', factor=0.5)\n",
    "\n",
    "dataset_id = ImageDataset(input_dir, sample_name_list=[brain_id])\n",
    "dataloader_id = DataLoader(dataset_id, batch_size=1, shuffle=False, num_workers=0)\n",
    "\n",
    "if resume:\n",
    "    checkpoint = torch.load(f'{output_dir}/epoch_{start_epoch_num-1}_checkpoint.pth.tar')    \n",
    "    model.load_state_dict(checkpoint['model_state_dict'])\n",
    "    \n",
    "    with open(f'{output_dir}/loss.txt', 'a') as f:\n",
    "        f.write(f'From {start_epoch_num} to {epoch_num+start_epoch_num}\\n')\n",
    "        f.write(f'MSE; Adadelta, lr={learning_rate}; \\n')\n",
    "else:\n",
    "    start_epoch_num = 0  \n",
    "    \n",
    "    with open(f'{output_dir}/loss.txt', 'w+') as f:\n",
    "        f.write(f'From {start_epoch_num} to {epoch_num+start_epoch_num}\\n')\n",
    "        f.write(f'MSE; Adadelta: lr={learning_rate}; \\n')\n",
    "    \n",
    "print(f'Starting from iteration {start_epoch_num} to iteration {epoch_num+start_epoch_num}')"
   ]
  },
  {
   "cell_type": "code",
   "execution_count": null,
   "metadata": {
    "scrolled": true
   },
   "outputs": [],
   "source": [
    "for epoch in tqdm(range(start_epoch_num, start_epoch_num+epoch_num)):\n",
    "    epoch_loss_id = 0\n",
    "            \n",
    "    for i, batched_id_sample in enumerate(dataloader_id):\n",
    "        input_id = batched_id_sample['vector_field'].to(device).float()\n",
    "        input_id.requires_grad = True\n",
    "        mask = batched_id_sample['mask'].float()\n",
    "        u_pred_id = model(input_id)[...,1:146,1:175]\n",
    "        pde_loss = pde(u_pred_id.squeeze(), input_id.squeeze(), mask.squeeze(), differential_accuracy=2)\n",
    "        f_pred_id = torch.einsum('...ij,...ij->...ij', pde_loss, mask.squeeze().unsqueeze(0).expand(2,-1,-1))\n",
    "        f_true_id = torch.zeros_like(f_pred_id)\n",
    "    \n",
    "        optimizer.zero_grad()\n",
    "        loss_id = criterion(f_pred_id, f_true_id)\n",
    "        loss_id.backward()\n",
    "        epoch_loss_id += loss_id.item()\n",
    "        optimizer.step()\n",
    "    scheduler.step(epoch_loss_id)\n",
    "        \n",
    "    with open(f'{output_dir}/loss.txt', 'a') as f:\n",
    "        f.write(f'{epoch_loss_id}\\n')\n",
    "    \n",
    "    print(f'epoch {epoch} MSELoss: {epoch_loss_id}')\n",
    "    epoch_loss_list.append(epoch_loss_id)\n",
    "    if epoch%100==0:       \n",
    "        if save_model:\n",
    "            torch.save({\n",
    "            'epoch': epoch,\n",
    "            'model_state_dict': model.state_dict(),\n",
    "            'optimizer_id_state_dict': optimizer.state_dict(),\n",
    "            'loss_id': epoch_loss_id,\n",
    "            }, f'{output_dir}/model.pth.tar')"
   ]
  },
  {
   "cell_type": "code",
   "execution_count": null,
   "metadata": {},
   "outputs": [],
   "source": [
    "plt.figure(figsize=(5,5))\n",
    "plt.xlabel('Iteration')\n",
    "plt.ylabel('MSE loss')\n",
    "plt.plot(epoch_loss_list)\n",
    "plt.savefig(f'{output_dir}/adadelta_loss_{learning_rate}.png')"
   ]
  },
  {
   "cell_type": "markdown",
   "metadata": {},
   "source": [
    "# Inference"
   ]
  },
  {
   "cell_type": "code",
   "execution_count": null,
   "metadata": {},
   "outputs": [],
   "source": [
    "checkpoint = torch.load(f'{output_dir}/model.pth.tar')\n",
    "model = DenseED(in_channels=2, out_channels=3, \n",
    "                imsize=100,\n",
    "                blocks=[6, 8, 6],\n",
    "                growth_rate=16, \n",
    "                init_features=48,\n",
    "                drop_rate=0,\n",
    "                out_activation=None,\n",
    "                upsample='nearest')\n",
    "model.load_state_dict(checkpoint['model_state_dict'])\n",
    "\n",
    "vector_lin = convert.read_nhdr(f'{input_dir}/{brain_id}/{brain_id}_vector_field.nhdr').to(device).permute(2,0,1).float()\n",
    "mask = convert.read_nhdr(f'{input_dir}/{brain_id}/{brain_id}_filt_mask.nhdr').permute(1,0).float()\n",
    "eroded_mask = skimage.morphology.erosion(mask.cpu().numpy(), skimage.morphology.square(4))\n",
    "\n",
    "u_pred = model(vector_lin.unsqueeze(0))\n",
    "u_pred = u_pred[...,1:146,1:175].squeeze()\n",
    "s_pred = tensors.lin2mat(u_pred)\n",
    "\n",
    "metric_pred_mat = matrix_exp_2d(s_pred)\n",
    "metric_pred_lin = tensors.mat2lin(metric_pred_mat)\n",
    "show_2d_tensors(metric_pred_mat.cpu().detach()*mask.unsqueeze(-1).unsqueeze(-1), scale=1e0, title='Learned Metric', margin=0.05, dpi=15)\n",
    "\n",
    "file_name = f'{input_dir}/{brain_id}/{brain_id}_learned_metric_final.nhdr'\n",
    "sitk.WriteImage(sitk.GetImageFromArray(np.transpose(metric_pred_lin.cpu().detach().numpy(),(2,1,0))), file_name)\n",
    "print(f'{file_name} saved')"
   ]
  },
  {
   "cell_type": "code",
   "execution_count": null,
   "metadata": {},
   "outputs": [],
   "source": []
  }
 ],
 "metadata": {
  "kernelspec": {
   "display_name": "pytorch7",
   "language": "python",
   "name": "pytorch7"
  },
  "language_info": {
   "codemirror_mode": {
    "name": "ipython",
    "version": 3
   },
   "file_extension": ".py",
   "mimetype": "text/x-python",
   "name": "python",
   "nbconvert_exporter": "python",
   "pygments_lexer": "ipython3",
   "version": "3.7.9"
  }
 },
 "nbformat": 4,
 "nbformat_minor": 4
}
