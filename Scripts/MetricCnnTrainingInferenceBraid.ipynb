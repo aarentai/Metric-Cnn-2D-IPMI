{
 "cells": [
  {
   "cell_type": "code",
   "execution_count": null,
   "metadata": {},
   "outputs": [],
   "source": [
    "import torch, os, sys\n",
    "import torch.nn.functional as F\n",
    "import SimpleITK as sitk\n",
    "import numpy as np\n",
    "\n",
    "sys.path.append('../Packages')\n",
    "from torch import nn\n",
    "from torch.utils.data import DataLoader, Dataset\n",
    "from skimage import data, filters\n",
    "from matplotlib import pyplot as plt\n",
    "from tqdm.notebook import tqdm as tqdm\n",
    "from model import *\n",
    "from plot import *\n",
    "from util import riemann, tensors, diff\n",
    "import data.convert as convert\n",
    "\n",
    "%matplotlib widget"
   ]
  },
  {
   "cell_type": "code",
   "execution_count": null,
   "metadata": {},
   "outputs": [],
   "source": [
    "class ImageDataset(Dataset):\n",
    "    def __init__(self, data_dir):\n",
    "        self.data_dir = data_dir\n",
    "        \n",
    "    def __len__(self):\n",
    "        return 1\n",
    "        \n",
    "    def __getitem__(self, idx):\n",
    "        device = torch.device('cuda' if torch.cuda.is_available() else 'cpu')\n",
    "        vector_field1_path = f'{self.data_dir}/sin/sin_vector_field.nhdr'\n",
    "        mask1_path = f'{self.data_dir}/sin/sin_filt_mask.nhdr'\n",
    "        vector_field1 = torch.from_numpy(sitk.GetArrayFromImage(sitk.ReadImage(vector_field1_path))).permute(2,0,1).to(device).float()*1000.0\n",
    "        mask1 = torch.from_numpy(sitk.GetArrayFromImage(sitk.ReadImage(mask1_path))).permute(1,0)\n",
    "        boundary_mask1 = torch.where(torch.from_numpy(filters.laplace(mask1))>0,1,0)\n",
    "        mask1 = (mask1-boundary_mask1).float().to(device)\n",
    "        \n",
    "        vector_field2_path = f'{self.data_dir}/cos/cos_vector_field.nhdr'\n",
    "        mask2_path = f'{self.data_dir}/cos/cos_filt_mask.nhdr'\n",
    "        vector_field2 = torch.from_numpy(sitk.GetArrayFromImage(sitk.ReadImage(vector_field2_path))).permute(2,0,1).to(device).float()*1000.0\n",
    "        mask2 = torch.from_numpy(sitk.GetArrayFromImage(sitk.ReadImage(mask2_path))).permute(1,0)\n",
    "        boundary_mask2 = torch.where(torch.from_numpy(filters.laplace(mask2))>0,1,0)\n",
    "        mask2 = (mask2-boundary_mask2).float().to(device)\n",
    "\n",
    "        sample = {  'vector_field'  : torch.cat((vector_field1,vector_field2),0),\n",
    "                    'mask1'          : mask1.unsqueeze(0),\n",
    "                    'mask2'          : mask2.unsqueeze(0)}\n",
    "        return sample\n",
    "\n",
    "def matrix_exp_2d(A):\n",
    "    \"\"\"\n",
    "    Construct positive definite matrix from symmetric matrix field A\n",
    "    Args:\n",
    "        A, torch.Tensor\n",
    "    Returns: \n",
    "        psd, torch.Tensor\n",
    "    \"\"\"\n",
    "    I = torch.zeros_like(A, device='cuda')\n",
    "    I[...,0,0] = 1\n",
    "    I[...,1,1] = 1\n",
    "    \n",
    "    s = ((A[...,0,0]+A[...,1,1])/2.).unsqueeze(-1).unsqueeze(-1)\n",
    "    q = torch.sqrt(-torch.det(A-torch.mul(s, I))).unsqueeze(-1).unsqueeze(-1)\n",
    "    \n",
    "    psd = torch.exp(s)*(torch.mul((torch.cosh(q)-s*torch.sinh(q)/q),I)+torch.sinh(q)/q*A)\n",
    "    return psd\n",
    "\n",
    "def pde(u, vector_lin, mask, differential_accuracy=2):\n",
    "    s = tensors.lin2mat(u)\n",
    "    metric_mat = matrix_exp_2d(s)\n",
    "    nabla_vv = riemann.covariant_derivative_2d(vector_lin, metric_mat, mask, differential_accuracy=differential_accuracy)\n",
    "    \n",
    "    return nabla_vv"
   ]
  },
  {
   "cell_type": "code",
   "execution_count": null,
   "metadata": {},
   "outputs": [],
   "source": [
    "mode='gpu'\n",
    "\n",
    "if mode=='gpu':\n",
    "    device = torch.device('cuda' if torch.cuda.is_available() else 'cpu')\n",
    "    # after switch device, you need restart the kernel\n",
    "    torch.cuda.set_device(1)\n",
    "    torch.set_default_tensor_type('torch.cuda.FloatTensor')\n",
    "else:\n",
    "    device = torch.device('cpu')\n",
    "    torch.set_default_dtype(torch.float64)"
   ]
  },
  {
   "cell_type": "markdown",
   "metadata": {},
   "source": [
    "### [Matrix exponential for 2D](https://en.wikipedia.org/wiki/Matrix_exponential)\n",
    "${\\displaystyle e^{tA}=e^{st}\\left(\\left(\\cosh(qt)-s{\\frac {\\sinh(qt)}{q}}\\right)~I~+{\\frac {\\sinh(qt)}{q}}A\\right)~.}$ where $t=1$, $s=tr({A}/2), q=-\\sqrt{-\\det(A-sI)}$"
   ]
  },
  {
   "cell_type": "code",
   "execution_count": null,
   "metadata": {},
   "outputs": [],
   "source": [
    "input_dir = '../Brains'\n",
    "output_dir = f'../Checkpoints/braid'\n",
    "if not os.path.isdir(output_dir):\n",
    "    os.mkdir(output_dir)"
   ]
  },
  {
   "cell_type": "code",
   "execution_count": null,
   "metadata": {},
   "outputs": [],
   "source": [
    "name = 'sin'\n",
    "mask1 = torch.from_numpy(sitk.GetArrayFromImage(sitk.ReadImage(f'{input_dir}/{name}/{name}_filt_mask.nhdr'))).double().permute(1,0)\n",
    "height, width = mask1.shape[0], mask1.shape[1]\n",
    "x_range = (0, height-1)\n",
    "y_range = (0, width-1)\n",
    "boundary_mask = torch.where(torch.from_numpy(filters.laplace(mask1.cpu().numpy()))>0,1,0)\n",
    "\n",
    "fig, (ax1,ax2,ax3) = plt.subplots(1, 3, figsize=(9, 3))\n",
    "ax1.imshow(mask1.numpy())\n",
    "ax1.set_title('orig mask')\n",
    "ax2.imshow(boundary_mask.numpy())\n",
    "ax2.set_title('boundary mask')\n",
    "mask1 = mask1-boundary_mask\n",
    "ax3.imshow(mask1.numpy())\n",
    "ax3.set_title('orig-boundary mask')\n",
    "\n",
    "plt.show()\n",
    "\n",
    "mask1 = mask1.to(device)"
   ]
  },
  {
   "cell_type": "code",
   "execution_count": null,
   "metadata": {},
   "outputs": [],
   "source": [
    "name = 'cos'\n",
    "mask2 = torch.from_numpy(sitk.GetArrayFromImage(sitk.ReadImage(f'{input_dir}/{name}/{name}_filt_mask.nhdr'))).double().permute(1,0)\n",
    "height, width = mask2.shape[0], mask2.shape[1]\n",
    "x_range = (0, height-1)\n",
    "y_range = (0, width-1)\n",
    "boundary_mask = torch.where(torch.from_numpy(filters.laplace(mask2.cpu().numpy()))>0,1,0)\n",
    "\n",
    "fig, (ax1,ax2,ax3) = plt.subplots(1, 3, figsize=(9, 3))\n",
    "ax1.imshow(mask2.numpy())\n",
    "ax1.set_title('orig mask')\n",
    "ax2.imshow(boundary_mask.numpy())\n",
    "ax2.set_title('boundary mask')\n",
    "mask2 = mask2-boundary_mask\n",
    "ax3.imshow(mask2.numpy())\n",
    "ax3.set_title('orig-boundary mask')\n",
    "\n",
    "plt.show()\n",
    "\n",
    "mask2 = mask2.to(device)"
   ]
  },
  {
   "cell_type": "code",
   "execution_count": null,
   "metadata": {},
   "outputs": [],
   "source": [
    "plt.figure()\n",
    "plt.imshow((mask1+mask2).cpu().numpy())"
   ]
  },
  {
   "cell_type": "code",
   "execution_count": null,
   "metadata": {},
   "outputs": [],
   "source": [
    "name = 'sin'\n",
    "vector_field1 = torch.from_numpy(sitk.GetArrayFromImage(sitk.ReadImage(f'{input_dir}/{name}/{name}_vector_field.nhdr'))).to(device)\n",
    "x = torch.linspace(0,height-1,height)\n",
    "y = torch.linspace(0,width-1,width)\n",
    "xx, yy = torch.meshgrid(x,y)\n",
    "plt.figure(figsize=(8,8))\n",
    "plt.quiver(xx.cpu(),yy.cpu(),vector_field1[:,:,0].cpu().numpy()*mask1.cpu().numpy(),vector_field1[:,:,1].cpu().numpy()*mask1.cpu().numpy())"
   ]
  },
  {
   "cell_type": "code",
   "execution_count": null,
   "metadata": {},
   "outputs": [],
   "source": [
    "name = 'cos'\n",
    "vector_field2 = torch.from_numpy(sitk.GetArrayFromImage(sitk.ReadImage(f'{input_dir}/{name}/{name}_vector_field.nhdr'))).to(device)\n",
    "x = torch.linspace(0,height-1,height)\n",
    "y = torch.linspace(0,width-1,width)\n",
    "xx, yy = torch.meshgrid(x,y)\n",
    "plt.figure(figsize=(8,8))\n",
    "plt.quiver(xx.cpu(),yy.cpu(),vector_field2[:,:,0].cpu().numpy()*mask2.cpu().numpy(),vector_field2[:,:,1].cpu().numpy()*mask2.cpu().numpy(),scale=3e1)"
   ]
  },
  {
   "cell_type": "markdown",
   "metadata": {},
   "source": [
    "# Training"
   ]
  },
  {
   "cell_type": "code",
   "execution_count": null,
   "metadata": {},
   "outputs": [],
   "source": [
    "resume = False\n",
    "save_model = True\n",
    "print(f'resume:{resume}, save_model:{save_model}')"
   ]
  },
  {
   "cell_type": "code",
   "execution_count": null,
   "metadata": {},
   "outputs": [],
   "source": [
    "epoch_loss_list = []\n",
    "epoch_num = 1001\n",
    "start_epoch_num = 1001\n",
    "learning_rate = 1e-2\n",
    "\n",
    "model = DenseED(in_channels=4, out_channels=3, \n",
    "                imsize=100,\n",
    "                blocks=[6, 8, 6],\n",
    "                growth_rate=16, \n",
    "                init_features=48,\n",
    "                drop_rate=0,\n",
    "                out_activation=None,\n",
    "                upsample='nearest')\n",
    "model.train()\n",
    "if mode=='gpu':\n",
    "    model.cuda()\n",
    "criterion = torch.nn.MSELoss()\n",
    "optimizer_id = torch.optim.Adadelta(model.parameters(), lr=learning_rate)\n",
    "\n",
    "dataset_id = ImageDataset(input_dir)\n",
    "dataloader_id = DataLoader(dataset_id, batch_size=1, shuffle=True, num_workers=0)\n",
    "\n",
    "if resume:\n",
    "    checkpoint = torch.load(f'{output_dir}/epoch_{start_epoch_num-1}_checkpoint.pth.tar')    \n",
    "    model.load_state_dict(checkpoint['model_state_dict'])\n",
    "    \n",
    "    with open(f'{output_dir}/loss.txt', 'a') as f:\n",
    "        f.write(f'From {start_epoch_num} to {epoch_num+start_epoch_num}\\n')\n",
    "        f.write(f'MSE; Adadelta, lr={learning_rate};\\n')\n",
    "else:\n",
    "    start_epoch_num = 0  \n",
    "    \n",
    "    with open(f'{output_dir}/loss.txt', 'w+') as f:\n",
    "        f.write(f'From {start_epoch_num} to {epoch_num+start_epoch_num}\\n')\n",
    "        f.write(f'MSE; Adadelta: lr={learning_rate};\\n')\n",
    "    \n",
    "print(f'Starting from iteration {start_epoch_num} to iteration {epoch_num+start_epoch_num}')"
   ]
  },
  {
   "cell_type": "code",
   "execution_count": null,
   "metadata": {
    "scrolled": true
   },
   "outputs": [],
   "source": [
    "for epoch in tqdm(range(start_epoch_num, start_epoch_num+epoch_num)):\n",
    "    epoch_loss_id = 0\n",
    "    epoch_loss_bd = 0\n",
    "            \n",
    "    for i, batched_id_sample in enumerate(dataloader_id):\n",
    "        '''innerdomain backpropagate'''\n",
    "        input_id = batched_id_sample['vector_field'].to(device)\n",
    "        input_id.requires_grad = True\n",
    "        # u_pred_id: [batch_size, *data_shape, feature_num] = [1, 3, ...]\n",
    "        u_pred_id = model(input_id)\n",
    "        # f_pred_id: [batch_size, feature_num, *data_shape] = [1, 2, ...]\n",
    "        mask1 = batched_id_sample['mask1'].squeeze()\n",
    "        mask2 = batched_id_sample['mask2'].squeeze()\n",
    "        pde_loss1 = pde(u_pred_id.squeeze(), input_id[0,:2].squeeze(), mask1, differential_accuracy=2)\n",
    "        pde_loss2 = pde(u_pred_id.squeeze(), input_id[0,2:].squeeze(), mask2, differential_accuracy=2)\n",
    "        f_pred_1 = torch.einsum('...ij,...ij->...ij', pde_loss1, mask1.unsqueeze(0).expand(2,-1,-1))\n",
    "        f_pred_2 = torch.einsum('...ij,...ij->...ij', pde_loss2, mask2.unsqueeze(0).expand(2,-1,-1))\n",
    "        f_pred_id = torch.cat((f_pred_1,f_pred_2),0)\n",
    "        # f_true_id: [batch_size, feature_num, *data_shape] = [1, 2, ...]\n",
    "        f_true_id = torch.zeros_like(f_pred_id)\n",
    "    \n",
    "        optimizer_id.zero_grad()\n",
    "        loss_id = criterion(f_pred_id, f_true_id)\n",
    "        loss_id.backward()\n",
    "        epoch_loss_id += loss_id.item()\n",
    "        optimizer_id.step()\n",
    "        \n",
    "    with open(f'{output_dir}/loss.txt', 'a') as f:\n",
    "        f.write(f'{epoch_loss_id}\\n')\n",
    "    \n",
    "    print(f'epoch {epoch} innerdomain loss: {epoch_loss_id}, norm: {torch.norm(f_pred_id,2)**2}')\n",
    "    epoch_loss_list.append(epoch_loss_id)\n",
    "    if epoch%10==0:       \n",
    "        if save_model:\n",
    "            torch.save({\n",
    "            'epoch': epoch,\n",
    "            'model_state_dict': model.state_dict(),\n",
    "            'optimizer_id_state_dict': optimizer_id.state_dict(),\n",
    "            'loss_id': epoch_loss_id\n",
    "            }, f'{output_dir}/model.pth.tar')"
   ]
  },
  {
   "cell_type": "code",
   "execution_count": null,
   "metadata": {},
   "outputs": [],
   "source": [
    "plt.figure(figsize=(7,5))\n",
    "plt.xlabel('Iteration')\n",
    "plt.ylabel('MSE Loss')\n",
    "plt.plot(epoch_loss_list)\n",
    "plt.savefig(f'{output_dir}/adadelta_loss_{learning_rate}.png')"
   ]
  },
  {
   "cell_type": "markdown",
   "metadata": {},
   "source": [
    "# Inference"
   ]
  },
  {
   "cell_type": "code",
   "execution_count": null,
   "metadata": {},
   "outputs": [],
   "source": [
    "checkpoint = torch.load(f'{output_dir}/model.pth.tar')\n",
    "model = DenseED(in_channels=4, out_channels=3, \n",
    "                imsize=100,\n",
    "                blocks=[6, 8, 6],\n",
    "                growth_rate=16, \n",
    "                init_features=48,\n",
    "                drop_rate=0,\n",
    "                out_activation=None,\n",
    "                upsample='nearest')\n",
    "model.load_state_dict(checkpoint['model_state_dict'])\n",
    "\n",
    "name = 'sin'\n",
    "vector_field1 = torch.from_numpy(sitk.GetArrayFromImage(sitk.ReadImage(f'{input_dir}/{name}/{name}_vector_field.nhdr'))).to(device).permute(2,0,1).unsqueeze(0).float()\n",
    "mask1 = torch.from_numpy(sitk.GetArrayFromImage(sitk.ReadImage(f'{input_dir}/{name}/{name}_filt_mask.nhdr'))).permute(1,0).to(device)\n",
    "boundary_mask1 = torch.where(torch.from_numpy(filters.laplace(mask1.cpu()))>0,1,0)\n",
    "mask1 = (mask1.cpu()-boundary_mask1.cpu()).float()\n",
    "\n",
    "name = 'cos'\n",
    "vector_field2 = torch.from_numpy(sitk.GetArrayFromImage(sitk.ReadImage(f'{input_dir}/{name}/{name}_vector_field.nhdr'))).to(device).permute(2,0,1).unsqueeze(0).float()\n",
    "mask2 = torch.from_numpy(sitk.GetArrayFromImage(sitk.ReadImage(f'{input_dir}/{name}/{name}_filt_mask.nhdr'))).permute(1,0).to(device)\n",
    "boundary_mask2 = torch.where(torch.from_numpy(filters.laplace(mask2.cpu()))>0,1,0)\n",
    "mask2 = (mask2.cpu()-boundary_mask2.cpu()).float()\n",
    "\n",
    "mask = torch.where(mask1+mask2>0,1,0)\n",
    "\n",
    "u_pred = model(torch.cat((vector_field1,vector_field2),1))\n",
    "u_pred = u_pred.squeeze()\n",
    "s_pred = tensors.lin2mat(u_pred)\n",
    "\n",
    "metric_pred_mat = matrix_exp_2d(s_pred)\n",
    "metric_pred_lin = tensors.mat2lin(metric_pred_mat)\n",
    "show_2d_tensors(metric_pred_mat.cpu().detach()*mask.cpu().unsqueeze(-1).unsqueeze(-1).numpy(), scale=1e0, title='Learned Metric', margin=0.05, dpi=15)\n",
    "\n",
    "file_name = f'{output_dir}/braid_learned_metric_final.nhdr'\n",
    "sitk.WriteImage(sitk.GetImageFromArray(np.transpose(metric_pred_lin.cpu().detach().numpy(),(2,1,0))), file_name)\n",
    "print(f'{file_name} saved')"
   ]
  },
  {
   "cell_type": "code",
   "execution_count": null,
   "metadata": {},
   "outputs": [],
   "source": []
  }
 ],
 "metadata": {
  "kernelspec": {
   "display_name": "pytorch7",
   "language": "python",
   "name": "pytorch7"
  },
  "language_info": {
   "codemirror_mode": {
    "name": "ipython",
    "version": 3
   },
   "file_extension": ".py",
   "mimetype": "text/x-python",
   "name": "python",
   "nbconvert_exporter": "python",
   "pygments_lexer": "ipython3",
   "version": "3.7.9"
  }
 },
 "nbformat": 4,
 "nbformat_minor": 4
}
